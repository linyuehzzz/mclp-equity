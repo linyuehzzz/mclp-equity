{
 "cells": [
  {
   "cell_type": "code",
   "execution_count": 1,
   "metadata": {},
   "outputs": [],
   "source": [
    "import pickle\n",
    "import numpy as np\n",
    "import geopandas as gpd\n",
    "import matplotlib.pyplot as plt\n",
    "from scipy.spatial.distance import cdist\n",
    "from matplotlib.colors import ListedColormap\n",
    "from matplotlib_scalebar.scalebar import ScaleBar\n",
    "import math"
   ]
  },
  {
   "cell_type": "markdown",
   "metadata": {},
   "source": [
    "Pareto front"
   ]
  },
  {
   "cell_type": "code",
   "execution_count": 7,
   "metadata": {},
   "outputs": [
    {
     "name": "stdout",
     "output_type": "stream",
     "text": [
      "p:  60\n",
      "[-4274385.78310628        0.0236542         0.00004425        0.00003314]\n",
      "p: 60 , prob: Relative Range\n",
      "Utility:  4186744.3571212287 4239426.219567946 4255892.863882094\n",
      "Inequality:  0.0004082956255083287 0.006682726326522929 0.024190376199305887\n",
      "p: 60 , prob: Variance\n",
      "Utility:  4210059.415565807 4244161.309345693 4256652.579183113\n",
      "Inequality:  2.6204203712137312e-08 3.3241428567192077e-06 1.3875502309338746e-05\n",
      "p: 60 , prob: Theil Index\n",
      "Utility:  4169323.9172157925 4247373.567617154 4266793.981941976\n",
      "Inequality:  1.0404822833935248e-08 6.154583242838477e-06 5.304266383619625e-05\n",
      "p:  80\n",
      "[-4401452.96505734        0.02492972        0.00004465        0.00003129]\n",
      "p: 80 , prob: Relative Range\n",
      "Utility:  4326213.755935107 4376192.39379294 4386772.807576941\n",
      "Inequality:  0.0002562245652251287 0.004824760448139425 0.014333879567684085\n",
      "p: 80 , prob: Variance\n",
      "Utility:  4270124.457815809 4363960.379258077 4385266.73133621\n",
      "Inequality:  6.46624299206146e-09 1.4041612531683349e-06 8.066211348436989e-06\n",
      "p: 80 , prob: Theil Index\n",
      "Utility:  4329603.629920734 4372378.299400369 4382362.752972366\n",
      "Inequality:  6.312056214900799e-09 2.640312560997909e-06 1.2233136025561113e-05\n",
      "p:  100\n",
      "[-4495165.74106246        0.01649967        0.00002429        0.00001634]\n",
      "p: 100 , prob: Relative Range\n",
      "Utility:  4448598.545728132 4467396.537253752 4472779.736325793\n",
      "Inequality:  0.00032526611620428713 0.004329984585104344 0.009384820830174112\n",
      "p: 100 , prob: Variance\n",
      "Utility:  4425785.09913195 4466816.003743357 4477793.281899325\n",
      "Inequality:  2.659394548112887e-09 2.3302168519685394e-06 1.0389176471720524e-05\n",
      "p: 100 , prob: Theil Index\n",
      "Utility:  4385853.817233244 4456782.963867069 4477197.821721264\n",
      "Inequality:  2.5454194471888365e-09 1.2079325250246983e-06 9.459471552034193e-06\n",
      "p:  120\n",
      "[-4562620.2594446         0.01279123        0.00001706        0.00001112]\n",
      "p: 120 , prob: Relative Range\n",
      "Utility:  4514859.630855185 4537832.32500384 4545120.342074953\n",
      "Inequality:  0.00020054679109390944 0.002637106711129256 0.008136225144127932\n",
      "p: 120 , prob: Variance\n",
      "Utility:  4519210.122542925 4533807.832694463 4543078.476245324\n",
      "Inequality:  2.0893939786230943e-10 1.6003098106348804e-06 8.340524915288952e-06\n",
      "p: 120 , prob: Theil Index\n",
      "Utility:  4479130.80548933 4532210.123300992 4544271.7787338905\n",
      "Inequality:  5.275970028390719e-10 8.256802812580042e-07 5.0547769069655915e-06\n",
      "p:  140\n",
      "[-4616694.51562487        0.02038811        0.00004328        0.0000276 ]\n",
      "p: 140 , prob: Relative Range\n",
      "Utility:  4566904.049966652 4590101.779060073 4598522.279496297\n",
      "Inequality:  0.00012088237210816435 0.0013437923449051942 0.003384827197627378\n",
      "p: 140 , prob: Variance\n",
      "Utility:  4551202.705791088 4581660.696160088 4596637.559019691\n",
      "Inequality:  7.171201818199627e-10 1.4707813890985371e-07 8.64636130378055e-07\n",
      "p: 140 , prob: Theil Index\n",
      "Utility:  4586452.143624438 4596356.848468454 4601437.205011068\n",
      "Inequality:  1.0231723501304191e-09 8.335878043491648e-07 5.2167244198914845e-06\n"
     ]
    }
   ],
   "source": [
    "P = [\"Relative Range\", \"Variance\", \"Theil Index\"]\n",
    "p_all = [60, 80, 100, 120, 140]\n",
    "np.set_printoptions(suppress=True)\n",
    "\n",
    "for p in p_all:\n",
    "    print(\"p: \", p)\n",
    "    F = pickle.load(open('data/obj/F_p' + str(p) + '.pickle', \"rb\")) \n",
    "    print(F)\n",
    "    for idx_p, prob in enumerate(P):\n",
    "       F = pickle.load(open('data/obj/F_p' + str(p) + '_prob' + str(idx_p+1) + '.pickle', \"rb\")) \n",
    "       u, e = -F[:, 0], F[:, 1]\n",
    "       print(\"p:\", p, \", prob:\", prob)\n",
    "       print(\"Utility: \", np.min(u), np.mean(u), np.max(u))\n",
    "       print(\"Inequality: \", np.min(e), np.mean(e), np.max(e))\n"
   ]
  }
 ],
 "metadata": {
  "kernelspec": {
   "display_name": "Python 3",
   "language": "python",
   "name": "python3"
  },
  "language_info": {
   "codemirror_mode": {
    "name": "ipython",
    "version": 3
   },
   "file_extension": ".py",
   "mimetype": "text/x-python",
   "name": "python",
   "nbconvert_exporter": "python",
   "pygments_lexer": "ipython3",
   "version": "3.11.4"
  }
 },
 "nbformat": 4,
 "nbformat_minor": 2
}
